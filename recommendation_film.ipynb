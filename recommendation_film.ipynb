{
  "nbformat": 4,
  "nbformat_minor": 0,
  "metadata": {
    "colab": {
      "provenance": [],
      "authorship_tag": "ABX9TyON0LoydvQ8sHv+12OKg5La",
      "include_colab_link": true
    },
    "kernelspec": {
      "name": "python3",
      "display_name": "Python 3"
    },
    "language_info": {
      "name": "python"
    }
  },
  "cells": [
    {
      "cell_type": "markdown",
      "metadata": {
        "id": "view-in-github",
        "colab_type": "text"
      },
      "source": [
        "<a href=\"https://colab.research.google.com/github/Alinaderi1378/Recomendation_film/blob/main/recommendation_film.ipynb\" target=\"_parent\"><img src=\"https://colab.research.google.com/assets/colab-badge.svg\" alt=\"Open In Colab\"/></a>"
      ]
    },
    {
      "cell_type": "code",
      "execution_count": null,
      "metadata": {
        "id": "Be-2pi70sohF"
      },
      "outputs": [],
      "source": [
        "!pip install pandas scikit-learn nltk hazm"
      ]
    },
    {
      "cell_type": "code",
      "source": [
        "# برای محیط دسکتاپ یا Google Colab\n",
        "import pandas as pd\n",
        "from sklearn.feature_extraction.text import TfidfVectorizer\n",
        "from sklearn.metrics.pairwise import cosine_similarity\n",
        "import nltk\n",
        "import os\n",
        "\n",
        "!pip install hazm\n",
        "try:\n",
        "    from hazm import stopwords_list, Normalizer\n",
        "except ImportError:\n",
        "    print(\"نصب hazm...\")\n",
        "    os.system(\"pip install hazm\")\n",
        "    from hazm import stopwords_list, Normalizer\n",
        "# دانلود منابع لازم\n",
        "nltk.download('punkt')\n",
        "\n",
        "# خواندن داده‌ها\n",
        "df = pd.read_csv('movies_farsi.csv', encoding='utf-8')\n",
        "df['overview'] = df['overview'].fillna('')"
      ],
      "metadata": {
        "id": "u-YBYLgow7Fl"
      },
      "execution_count": null,
      "outputs": []
    },
    {
      "cell_type": "code",
      "source": [
        "\n",
        "\n",
        "# پیش‌پردازش متن فارسی\n",
        "normalizer = Normalizer()\n",
        "stop_words = set(stopwords_list())\n",
        "\n",
        "def preprocess(text):\n",
        "    text = normalizer.normalize(text)\n",
        "    tokens = text.split()\n",
        "    tokens = [t for t in tokens if t not in stop_words]\n",
        "    return ' '.join(tokens)\n",
        "\n",
        "df['overview_clean'] = df['overview'].apply(preprocess)\n",
        "\n",
        "# بردارسازی با TF-IDF\n",
        "vectorizer = TfidfVectorizer()\n",
        "tfidf_matrix = vectorizer.fit_transform(df['overview_clean'])\n",
        "cosine_sim = cosine_similarity(tfidf_matrix, tfidf_matrix)\n",
        "\n",
        "# تابع پیشنهاد فیلم\n",
        "def get_recommendations(movie_title, top_n=3):\n",
        "    if movie_title not in df['title'].values:\n",
        "        return [f\"فیلم «{movie_title}» یافت نشد.\"]\n",
        "    idx = df[df['title'] == movie_title].index[0]\n",
        "    sim_scores = list(enumerate(cosine_sim[idx]))\n",
        "    sim_scores = sorted(sim_scores, key=lambda x: x[1], reverse=True)[1:top_n+1]\n",
        "    return [f\"{df.iloc[i]['title']} (شباهت: {score:.2f})\" for i, score in sim_scores]\n",
        "\n",
        "\n",
        "print(\"🎬 لیست فیلم‌های موجود:\")\n",
        "for idx, title in enumerate(df['title']):\n",
        "    print(f\"{idx + 1}. {title}\")\n",
        "\n",
        "movie_index = int(input(\"\\nشماره فیلم مورد نظر را وارد کنید: \")) - 1\n",
        "\n",
        "if 0 <= movie_index < len(df):\n",
        "    selected_title = df.iloc[movie_index]['title']\n",
        "    print(f\"\\n✅ فیلم انتخاب‌شده: «{selected_title}»\")\n",
        "    print(\"🎯 پیشنهاد فیلم‌های مشابه:\\n\")\n",
        "    recommendations = get_recommendations(selected_title)\n",
        "    for i, rec in enumerate(recommendations, 1):\n",
        "        print(f\"{i}. {rec}\")\n",
        "else:\n",
        "    print(\"شماره وارد شده نامعتبر است.\")\n",
        "\n"
      ],
      "metadata": {
        "id": "IMgNE_F9tC75"
      },
      "execution_count": null,
      "outputs": []
    }
  ]
}